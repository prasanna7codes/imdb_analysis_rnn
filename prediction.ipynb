{
 "cells": [
  {
   "cell_type": "code",
   "execution_count": 1,
   "metadata": {},
   "outputs": [],
   "source": [
    "# Step 1: Import Libraries and Load the Model\n",
    "import numpy as np\n",
    "import tensorflow as tf\n",
    "from tensorflow.keras.datasets import imdb\n",
    "from tensorflow.keras.preprocessing import sequence\n",
    "from tensorflow.keras.models import load_model"
   ]
  },
  {
   "cell_type": "code",
   "execution_count": 2,
   "metadata": {},
   "outputs": [],
   "source": [
    "\n",
    "# Load the IMDB dataset word index\n",
    "word_index = imdb.get_word_index()\n",
    "reverse_word_index = {value: key for key, value in word_index.items()}"
   ]
  },
  {
   "cell_type": "code",
   "execution_count": 3,
   "metadata": {},
   "outputs": [
    {
     "name": "stderr",
     "output_type": "stream",
     "text": [
      "WARNING:absl:Compiled the loaded model, but the compiled metrics have yet to be built. `model.compile_metrics` will be empty until you train or evaluate the model.\n"
     ]
    },
    {
     "data": {
      "text/html": [
       "<pre style=\"white-space:pre;overflow-x:auto;line-height:normal;font-family:Menlo,'DejaVu Sans Mono',consolas,'Courier New',monospace\"><span style=\"font-weight: bold\">Model: \"sequential_5\"</span>\n",
       "</pre>\n"
      ],
      "text/plain": [
       "\u001b[1mModel: \"sequential_5\"\u001b[0m\n"
      ]
     },
     "metadata": {},
     "output_type": "display_data"
    },
    {
     "data": {
      "text/html": [
       "<pre style=\"white-space:pre;overflow-x:auto;line-height:normal;font-family:Menlo,'DejaVu Sans Mono',consolas,'Courier New',monospace\">┏━━━━━━━━━━━━━━━━━━━━━━━━━━━━━━━━━┳━━━━━━━━━━━━━━━━━━━━━━━━┳━━━━━━━━━━━━━━━┓\n",
       "┃<span style=\"font-weight: bold\"> Layer (type)                    </span>┃<span style=\"font-weight: bold\"> Output Shape           </span>┃<span style=\"font-weight: bold\">       Param # </span>┃\n",
       "┡━━━━━━━━━━━━━━━━━━━━━━━━━━━━━━━━━╇━━━━━━━━━━━━━━━━━━━━━━━━╇━━━━━━━━━━━━━━━┩\n",
       "│ embedding_5 (<span style=\"color: #0087ff; text-decoration-color: #0087ff\">Embedding</span>)         │ (<span style=\"color: #00af00; text-decoration-color: #00af00\">1</span>, <span style=\"color: #00af00; text-decoration-color: #00af00\">500</span>, <span style=\"color: #00af00; text-decoration-color: #00af00\">128</span>)          │     <span style=\"color: #00af00; text-decoration-color: #00af00\">1,280,000</span> │\n",
       "├─────────────────────────────────┼────────────────────────┼───────────────┤\n",
       "│ simple_rnn_5 (<span style=\"color: #0087ff; text-decoration-color: #0087ff\">SimpleRNN</span>)        │ (<span style=\"color: #00af00; text-decoration-color: #00af00\">1</span>, <span style=\"color: #00af00; text-decoration-color: #00af00\">128</span>)               │        <span style=\"color: #00af00; text-decoration-color: #00af00\">32,896</span> │\n",
       "├─────────────────────────────────┼────────────────────────┼───────────────┤\n",
       "│ dense_5 (<span style=\"color: #0087ff; text-decoration-color: #0087ff\">Dense</span>)                 │ (<span style=\"color: #00af00; text-decoration-color: #00af00\">1</span>, <span style=\"color: #00af00; text-decoration-color: #00af00\">1</span>)                 │           <span style=\"color: #00af00; text-decoration-color: #00af00\">129</span> │\n",
       "└─────────────────────────────────┴────────────────────────┴───────────────┘\n",
       "</pre>\n"
      ],
      "text/plain": [
       "┏━━━━━━━━━━━━━━━━━━━━━━━━━━━━━━━━━┳━━━━━━━━━━━━━━━━━━━━━━━━┳━━━━━━━━━━━━━━━┓\n",
       "┃\u001b[1m \u001b[0m\u001b[1mLayer (type)                   \u001b[0m\u001b[1m \u001b[0m┃\u001b[1m \u001b[0m\u001b[1mOutput Shape          \u001b[0m\u001b[1m \u001b[0m┃\u001b[1m \u001b[0m\u001b[1m      Param #\u001b[0m\u001b[1m \u001b[0m┃\n",
       "┡━━━━━━━━━━━━━━━━━━━━━━━━━━━━━━━━━╇━━━━━━━━━━━━━━━━━━━━━━━━╇━━━━━━━━━━━━━━━┩\n",
       "│ embedding_5 (\u001b[38;5;33mEmbedding\u001b[0m)         │ (\u001b[38;5;34m1\u001b[0m, \u001b[38;5;34m500\u001b[0m, \u001b[38;5;34m128\u001b[0m)          │     \u001b[38;5;34m1,280,000\u001b[0m │\n",
       "├─────────────────────────────────┼────────────────────────┼───────────────┤\n",
       "│ simple_rnn_5 (\u001b[38;5;33mSimpleRNN\u001b[0m)        │ (\u001b[38;5;34m1\u001b[0m, \u001b[38;5;34m128\u001b[0m)               │        \u001b[38;5;34m32,896\u001b[0m │\n",
       "├─────────────────────────────────┼────────────────────────┼───────────────┤\n",
       "│ dense_5 (\u001b[38;5;33mDense\u001b[0m)                 │ (\u001b[38;5;34m1\u001b[0m, \u001b[38;5;34m1\u001b[0m)                 │           \u001b[38;5;34m129\u001b[0m │\n",
       "└─────────────────────────────────┴────────────────────────┴───────────────┘\n"
      ]
     },
     "metadata": {},
     "output_type": "display_data"
    },
    {
     "data": {
      "text/html": [
       "<pre style=\"white-space:pre;overflow-x:auto;line-height:normal;font-family:Menlo,'DejaVu Sans Mono',consolas,'Courier New',monospace\"><span style=\"font-weight: bold\"> Total params: </span><span style=\"color: #00af00; text-decoration-color: #00af00\">1,313,027</span> (5.01 MB)\n",
       "</pre>\n"
      ],
      "text/plain": [
       "\u001b[1m Total params: \u001b[0m\u001b[38;5;34m1,313,027\u001b[0m (5.01 MB)\n"
      ]
     },
     "metadata": {},
     "output_type": "display_data"
    },
    {
     "data": {
      "text/html": [
       "<pre style=\"white-space:pre;overflow-x:auto;line-height:normal;font-family:Menlo,'DejaVu Sans Mono',consolas,'Courier New',monospace\"><span style=\"font-weight: bold\"> Trainable params: </span><span style=\"color: #00af00; text-decoration-color: #00af00\">1,313,025</span> (5.01 MB)\n",
       "</pre>\n"
      ],
      "text/plain": [
       "\u001b[1m Trainable params: \u001b[0m\u001b[38;5;34m1,313,025\u001b[0m (5.01 MB)\n"
      ]
     },
     "metadata": {},
     "output_type": "display_data"
    },
    {
     "data": {
      "text/html": [
       "<pre style=\"white-space:pre;overflow-x:auto;line-height:normal;font-family:Menlo,'DejaVu Sans Mono',consolas,'Courier New',monospace\"><span style=\"font-weight: bold\"> Non-trainable params: </span><span style=\"color: #00af00; text-decoration-color: #00af00\">0</span> (0.00 B)\n",
       "</pre>\n"
      ],
      "text/plain": [
       "\u001b[1m Non-trainable params: \u001b[0m\u001b[38;5;34m0\u001b[0m (0.00 B)\n"
      ]
     },
     "metadata": {},
     "output_type": "display_data"
    },
    {
     "data": {
      "text/html": [
       "<pre style=\"white-space:pre;overflow-x:auto;line-height:normal;font-family:Menlo,'DejaVu Sans Mono',consolas,'Courier New',monospace\"><span style=\"font-weight: bold\"> Optimizer params: </span><span style=\"color: #00af00; text-decoration-color: #00af00\">2</span> (12.00 B)\n",
       "</pre>\n"
      ],
      "text/plain": [
       "\u001b[1m Optimizer params: \u001b[0m\u001b[38;5;34m2\u001b[0m (12.00 B)\n"
      ]
     },
     "metadata": {},
     "output_type": "display_data"
    }
   ],
   "source": [
    "# Load the pre-trained model with ReLU activation\n",
    "model = load_model('simple_rnn_imdb.h5')\n",
    "model.summary()"
   ]
  },
  {
   "cell_type": "code",
   "execution_count": 4,
   "metadata": {},
   "outputs": [
    {
     "data": {
      "text/plain": [
       "[array([[ 0.08868191,  0.7956169 , -0.37460607, ..., -0.9041127 ,\n",
       "          0.8417009 ,  0.8256538 ],\n",
       "        [-0.03992891,  0.12398972, -0.09607802, ..., -0.02140495,\n",
       "          0.08418023,  0.04468255],\n",
       "        [ 0.17514095,  0.2513605 ,  0.09499352, ..., -0.22221164,\n",
       "          0.16357198,  0.10006273],\n",
       "        ...,\n",
       "        [ 0.06806678, -0.0403044 , -0.10502087, ..., -0.09587954,\n",
       "         -0.03211621, -0.08740542],\n",
       "        [-0.09636858,  0.07252271,  0.01430544, ...,  0.0535921 ,\n",
       "         -0.06840789, -0.05798461],\n",
       "        [ 0.04972722, -0.0591502 ,  0.00140178, ..., -0.04435392,\n",
       "          0.00090704,  0.02608128]], dtype=float32),\n",
       " array([[-0.00955248, -0.06336837, -0.1723931 , ..., -0.07770675,\n",
       "         -0.19832852,  0.08632102],\n",
       "        [-0.06400969,  0.0356647 , -0.14543055, ..., -0.14482608,\n",
       "          0.12685218,  0.04224181],\n",
       "        [-0.01683833, -0.18065992, -0.21409257, ..., -0.1588436 ,\n",
       "          0.14080092,  0.03842053],\n",
       "        ...,\n",
       "        [ 0.14307296,  0.02623228,  0.19582497, ..., -0.01492784,\n",
       "          0.05683811, -0.1029897 ],\n",
       "        [-0.22341804,  0.05046556, -0.08458783, ...,  0.10009453,\n",
       "         -0.21273395,  0.2096139 ],\n",
       "        [ 0.1030143 , -0.00171039,  0.01306115, ..., -0.10680862,\n",
       "          0.06558128,  0.06506312]], dtype=float32),\n",
       " array([[ 5.19492254e-02, -2.00501381e-04,  4.45141532e-02, ...,\n",
       "          7.41188601e-02, -4.45357919e-01, -4.59212735e-02],\n",
       "        [-9.94440541e-02, -7.73146190e-03, -4.21942770e-03, ...,\n",
       "         -2.07128115e-02,  2.18564600e-01, -1.42398686e-03],\n",
       "        [-2.97969263e-02, -7.47580528e-02, -6.81999251e-02, ...,\n",
       "          8.18476453e-02, -1.12071902e-01,  1.26201585e-02],\n",
       "        ...,\n",
       "        [ 7.18208924e-02, -2.93649663e-03, -3.12582478e-02, ...,\n",
       "         -7.49257803e-02,  1.47953555e-01,  4.03321981e-02],\n",
       "        [ 1.52203500e-01, -1.12468056e-01,  8.36513042e-02, ...,\n",
       "          2.79025305e-02, -8.82305428e-02, -6.49196059e-02],\n",
       "        [-2.99472231e-02, -3.46293934e-02,  1.13104898e-02, ...,\n",
       "          5.41703403e-02,  7.98562169e-02,  1.23138808e-01]], dtype=float32),\n",
       " array([-0.02232211,  0.04147977, -0.03046313,  0.01672004, -0.05517958,\n",
       "         0.02494691, -0.0457399 , -0.03553499, -0.07460412,  0.01147057,\n",
       "        -0.0300191 ,  0.03838263,  0.00285137,  0.0141647 ,  0.00721154,\n",
       "        -0.04216906, -0.01509522, -0.05496601, -0.03703355,  0.00159773,\n",
       "        -0.02042986, -0.02997719, -0.04978044,  0.00819391, -0.01992395,\n",
       "        -0.00883173,  0.05404809,  0.05304656, -0.02069554, -0.04818432,\n",
       "        -0.0319401 , -0.01599666, -0.01054324, -0.02059485, -0.03324022,\n",
       "        -0.00035818,  0.04137861,  0.0248111 ,  0.00508089, -0.05377502,\n",
       "         0.01455769, -0.04128467,  0.0161116 ,  0.00012683, -0.01878727,\n",
       "         0.03012284,  0.04368512, -0.0190688 , -0.01077759,  0.00860933,\n",
       "         0.02871259,  0.0342856 , -0.06203772, -0.02157133,  0.02015214,\n",
       "        -0.04867813, -0.03712561, -0.03729121, -0.03365111, -0.05123679,\n",
       "         0.05039411, -0.02257404, -0.02259391, -0.04482121,  0.00706868,\n",
       "         0.05543116, -0.02939442,  0.03561641, -0.01259702, -0.01423651,\n",
       "         0.05568719, -0.0503038 ,  0.0176754 , -0.03166384, -0.07572031,\n",
       "        -0.02539083,  0.00615075,  0.01563796, -0.04539382,  0.06150561,\n",
       "         0.06412006, -0.02087937, -0.02787452,  0.00590644, -0.07222365,\n",
       "        -0.01008294, -0.01131623, -0.01530602, -0.01452217, -0.04509211,\n",
       "        -0.04117713,  0.01117673,  0.03125294,  0.03338043, -0.04759095,\n",
       "         0.03211168,  0.08040158, -0.03935259, -0.02086955, -0.00987369,\n",
       "         0.02824423, -0.05838438, -0.01565754, -0.01686624,  0.0131885 ,\n",
       "        -0.03173994, -0.0462165 , -0.04820734, -0.05028118,  0.00198527,\n",
       "        -0.02878322,  0.05894485,  0.02594463,  0.01047692, -0.05932495,\n",
       "        -0.06134148,  0.00951918, -0.02599503,  0.04896262, -0.04422921,\n",
       "         0.00306052, -0.00419406,  0.02497965,  0.01828675, -0.00816672,\n",
       "        -0.01278699,  0.00811181,  0.01217412], dtype=float32),\n",
       " array([[ 0.0008046 ],\n",
       "        [ 0.03434542],\n",
       "        [ 0.16545391],\n",
       "        [ 0.06153148],\n",
       "        [-0.19348325],\n",
       "        [ 0.17183073],\n",
       "        [ 0.07809851],\n",
       "        [ 0.1927481 ],\n",
       "        [ 0.16382188],\n",
       "        [ 0.04525113],\n",
       "        [ 0.14320931],\n",
       "        [-0.12202594],\n",
       "        [ 0.1544641 ],\n",
       "        [-0.13278995],\n",
       "        [-0.02675095],\n",
       "        [ 0.12300967],\n",
       "        [ 0.04760746],\n",
       "        [-0.00223105],\n",
       "        [ 0.05264385],\n",
       "        [ 0.14485551],\n",
       "        [-0.11017028],\n",
       "        [-0.08038825],\n",
       "        [ 0.05746596],\n",
       "        [ 0.54248035],\n",
       "        [-0.13570046],\n",
       "        [ 0.13711016],\n",
       "        [-0.07718764],\n",
       "        [-0.07622604],\n",
       "        [-0.20238537],\n",
       "        [ 0.11150941],\n",
       "        [ 0.16984604],\n",
       "        [-0.13782272],\n",
       "        [-0.13459097],\n",
       "        [-0.144159  ],\n",
       "        [-0.18065824],\n",
       "        [ 0.24670586],\n",
       "        [-0.10477773],\n",
       "        [-0.16616632],\n",
       "        [-0.10145751],\n",
       "        [-0.00660969],\n",
       "        [ 0.08481842],\n",
       "        [ 0.12071235],\n",
       "        [ 0.05194193],\n",
       "        [ 0.15855597],\n",
       "        [ 0.06794493],\n",
       "        [-0.11973029],\n",
       "        [-0.02971907],\n",
       "        [ 0.2174118 ],\n",
       "        [-0.01936385],\n",
       "        [ 0.11096673],\n",
       "        [ 0.06029073],\n",
       "        [-0.12048561],\n",
       "        [ 0.11100568],\n",
       "        [-0.1445212 ],\n",
       "        [ 0.1784267 ],\n",
       "        [-0.07387993],\n",
       "        [-0.13383456],\n",
       "        [ 0.2462306 ],\n",
       "        [ 0.07414347],\n",
       "        [ 0.17959303],\n",
       "        [-0.07061253],\n",
       "        [-0.009283  ],\n",
       "        [-0.18502733],\n",
       "        [ 0.14726979],\n",
       "        [-0.21756165],\n",
       "        [-0.1294715 ],\n",
       "        [ 0.16258354],\n",
       "        [ 0.08004808],\n",
       "        [-0.05174862],\n",
       "        [ 0.18933743],\n",
       "        [-0.11452591],\n",
       "        [ 0.1517604 ],\n",
       "        [-0.19715247],\n",
       "        [ 0.16609152],\n",
       "        [ 0.12388458],\n",
       "        [ 0.1458386 ],\n",
       "        [-0.09922104],\n",
       "        [ 0.22668396],\n",
       "        [ 0.08026963],\n",
       "        [-0.04410281],\n",
       "        [-0.05139967],\n",
       "        [-0.16380724],\n",
       "        [-0.04330081],\n",
       "        [ 0.15397331],\n",
       "        [ 0.13156128],\n",
       "        [ 0.24875344],\n",
       "        [-0.01911631],\n",
       "        [-0.19176029],\n",
       "        [-0.21120235],\n",
       "        [ 0.23805062],\n",
       "        [-0.15492675],\n",
       "        [ 0.13521592],\n",
       "        [-0.07056434],\n",
       "        [ 0.10401709],\n",
       "        [ 0.03761571],\n",
       "        [-0.07009591],\n",
       "        [ 0.15599892],\n",
       "        [-0.04744716],\n",
       "        [ 0.15133968],\n",
       "        [-0.08632264],\n",
       "        [ 0.11589641],\n",
       "        [ 0.01768897],\n",
       "        [-0.6810509 ],\n",
       "        [ 0.12862334],\n",
       "        [ 0.1082698 ],\n",
       "        [ 0.13513328],\n",
       "        [-0.14331676],\n",
       "        [ 0.08785158],\n",
       "        [ 0.07097204],\n",
       "        [-0.24714866],\n",
       "        [-0.02897152],\n",
       "        [ 0.18687598],\n",
       "        [ 0.17171627],\n",
       "        [-0.16843145],\n",
       "        [ 0.00856251],\n",
       "        [ 0.0381292 ],\n",
       "        [-0.04686286],\n",
       "        [-0.22680631],\n",
       "        [-0.2197936 ],\n",
       "        [ 0.07504359],\n",
       "        [ 0.15502882],\n",
       "        [-0.14072683],\n",
       "        [-0.14390759],\n",
       "        [-0.60239273],\n",
       "        [ 0.21425489],\n",
       "        [ 0.22935979],\n",
       "        [-0.21646169],\n",
       "        [-0.15325366]], dtype=float32),\n",
       " array([0.09936392], dtype=float32)]"
      ]
     },
     "execution_count": 4,
     "metadata": {},
     "output_type": "execute_result"
    }
   ],
   "source": [
    "model.get_weights()"
   ]
  },
  {
   "cell_type": "code",
   "execution_count": 5,
   "metadata": {},
   "outputs": [],
   "source": [
    "# Step 2: Helper Functions\n",
    "# Function to decode reviews\n",
    "def decode_review(encoded_review):\n",
    "    return ' '.join([reverse_word_index.get(i - 3, '?') for i in encoded_review])\n",
    "\n",
    "# Function to preprocess user input\n",
    "def preprocess_text(text):\n",
    "    words = text.lower().split()\n",
    "    encoded_review = [word_index.get(word, 2) + 3 for word in words]\n",
    "    padded_review = sequence.pad_sequences([encoded_review], maxlen=500)\n",
    "    return padded_review"
   ]
  },
  {
   "cell_type": "code",
   "execution_count": 6,
   "metadata": {},
   "outputs": [],
   "source": [
    "### Prediction  function\n",
    "\n",
    "def predict_sentiment(review):\n",
    "    preprocessed_input=preprocess_text(review)\n",
    "\n",
    "    prediction=model.predict(preprocessed_input)\n",
    "\n",
    "    sentiment = 'Positive' if prediction[0][0] > 0.5 else 'Negative'\n",
    "    \n",
    "    return sentiment, prediction[0][0]\n",
    "\n"
   ]
  },
  {
   "cell_type": "code",
   "execution_count": 7,
   "metadata": {},
   "outputs": [
    {
     "name": "stdout",
     "output_type": "stream",
     "text": [
      "\u001b[1m1/1\u001b[0m \u001b[32m━━━━━━━━━━━━━━━━━━━━\u001b[0m\u001b[37m\u001b[0m \u001b[1m0s\u001b[0m 384ms/step\n",
      "Review: This movie was fantastic! The acting was great and the plot was thrilling.\n",
      "Sentiment: Positive\n",
      "Prediction Score: 0.9726158380508423\n"
     ]
    }
   ],
   "source": [
    "# Step 4: User Input and Prediction\n",
    "# Example review for prediction\n",
    "example_review = \"This movie was fantastic! The acting was great and the plot was thrilling.\"\n",
    "\n",
    "sentiment,score=predict_sentiment(example_review)\n",
    "\n",
    "print(f'Review: {example_review}')\n",
    "print(f'Sentiment: {sentiment}')\n",
    "print(f'Prediction Score: {score}')"
   ]
  },
  {
   "cell_type": "code",
   "execution_count": null,
   "metadata": {},
   "outputs": [],
   "source": []
  },
  {
   "cell_type": "code",
   "execution_count": null,
   "metadata": {},
   "outputs": [],
   "source": []
  },
  {
   "cell_type": "code",
   "execution_count": null,
   "metadata": {},
   "outputs": [],
   "source": []
  },
  {
   "cell_type": "code",
   "execution_count": null,
   "metadata": {},
   "outputs": [],
   "source": []
  },
  {
   "cell_type": "code",
   "execution_count": null,
   "metadata": {},
   "outputs": [],
   "source": []
  },
  {
   "cell_type": "code",
   "execution_count": null,
   "metadata": {},
   "outputs": [],
   "source": []
  },
  {
   "cell_type": "code",
   "execution_count": null,
   "metadata": {},
   "outputs": [],
   "source": []
  },
  {
   "cell_type": "code",
   "execution_count": null,
   "metadata": {},
   "outputs": [],
   "source": []
  },
  {
   "cell_type": "code",
   "execution_count": null,
   "metadata": {},
   "outputs": [],
   "source": []
  },
  {
   "cell_type": "code",
   "execution_count": null,
   "metadata": {},
   "outputs": [],
   "source": []
  }
 ],
 "metadata": {
  "kernelspec": {
   "display_name": "imdb_rnn",
   "language": "python",
   "name": "python3"
  },
  "language_info": {
   "codemirror_mode": {
    "name": "ipython",
    "version": 3
   },
   "file_extension": ".py",
   "mimetype": "text/x-python",
   "name": "python",
   "nbconvert_exporter": "python",
   "pygments_lexer": "ipython3",
   "version": "3.12.8"
  }
 },
 "nbformat": 4,
 "nbformat_minor": 2
}
